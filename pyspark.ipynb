{
 "cells": [
  {
   "cell_type": "code",
   "execution_count": 1,
   "id": "1a61acbe-d65d-43ad-b62c-d11c4660a74f",
   "metadata": {},
   "outputs": [],
   "source": [
    "from pyspark.sql import SparkSession"
   ]
  },
  {
   "cell_type": "code",
   "execution_count": 2,
   "id": "1e7f4803-34c4-4887-88f0-5a61f57534c9",
   "metadata": {},
   "outputs": [],
   "source": [
    "spark = SparkSession.builder.master(\"local[*]\").appName(\"ENEMTeste\").getOrCreate()"
   ]
  },
  {
   "cell_type": "code",
   "execution_count": 3,
   "id": "667b4693-55c6-4124-b391-1ddd4a5a2d9d",
   "metadata": {},
   "outputs": [],
   "source": [
    "enem = (\n",
    "    spark\n",
    "    .read\n",
    "    .format(\"csv\")\n",
    "    .options(header=True,inferSchema=True,delimiter=\";\", encoding=\"latin1\")\n",
    "    .load(\"enem2019/DADOS/MICRODADOS_ENEM_2019.csv\")\n",
    ")"
   ]
  },
  {
   "cell_type": "code",
   "execution_count": 4,
   "id": "6e8eb7d8-f885-4c73-9b40-ebdd5356b124",
   "metadata": {},
   "outputs": [
    {
     "data": {
      "text/plain": [
       "5095270"
      ]
     },
     "execution_count": 4,
     "metadata": {},
     "output_type": "execute_result"
    }
   ],
   "source": [
    "enem.count()"
   ]
  },
  {
   "cell_type": "code",
   "execution_count": 5,
   "id": "36da90be-9244-4499-88a4-d1f144430fed",
   "metadata": {},
   "outputs": [],
   "source": [
    "from pyspark.sql.functions import count, col, mean"
   ]
  },
  {
   "cell_type": "code",
   "execution_count": 6,
   "id": "72f5c118-d230-4e1d-989f-973030eaf30c",
   "metadata": {},
   "outputs": [
    {
     "name": "stdout",
     "output_type": "stream",
     "text": [
      "+-------+----------------+------------------+------------------+\n",
      "|TP_SEXO|SG_UF_RESIDENCIA|         med_idade|       med_nota_mt|\n",
      "+-------+----------------+------------------+------------------+\n",
      "|      F|              DF| 23.08285149937152| 517.9624757342744|\n",
      "|      F|              PB|22.583268720189846|491.15081486656857|\n",
      "|      F|              ES|22.412574909777174| 523.7890381945264|\n",
      "|      F|              PI|22.086648062532106|483.89192631785204|\n",
      "|      M|              MS|22.712471968259443| 536.4454554406697|\n",
      "|      F|              SE| 22.37932546818122|490.77354970390377|\n",
      "|      M|              AM|23.486011658632027|498.55375681970463|\n",
      "|      M|              RR| 22.34894026974952| 520.2750000000001|\n",
      "|      M|              SP|20.975866306954437| 578.2618169116553|\n",
      "|      F|              CE| 21.11123120643171| 501.9193588902578|\n",
      "|      M|              PE|22.165988572246118| 541.9512436978805|\n",
      "|      F|              TO|21.222175468125396| 481.6204369992716|\n",
      "|      M|              MA|22.031996727607403|503.74552093996874|\n",
      "|      F|              MG|21.872027894891655| 529.5273594421636|\n",
      "|      F|              MA|22.065852435856538| 470.4185900804398|\n",
      "|      F|              PR| 20.86052019075831| 524.1114158930476|\n",
      "|      M|              RO|23.608279700817533| 516.1848362720402|\n",
      "|      F|              AP|24.431321792590197|461.07923313417257|\n",
      "|      F|              BA| 22.65389482592745|484.98811374324475|\n",
      "|      F|              SP| 20.85638000983014| 532.5990530953453|\n",
      "+-------+----------------+------------------+------------------+\n",
      "only showing top 20 rows\n",
      "\n"
     ]
    }
   ],
   "source": [
    "#Consulta a dados usando API Spark DataFrames\n",
    "\n",
    "(\n",
    "    enem.groupBy([\"TP_SEXO\", \"SG_UF_RESIDENCIA\"])\n",
    "    .agg(\n",
    "        mean(col(\"NU_IDADE\")).alias(\"med_idade\"),    \n",
    "        mean(col(\"NU_NOTA_MT\")).alias(\"med_nota_mt\")\n",
    "    )\n",
    "    .show()\n",
    ")"
   ]
  },
  {
   "cell_type": "code",
   "execution_count": 7,
   "id": "3dfbc6c7-5d56-4575-a436-e1fa38fd4860",
   "metadata": {},
   "outputs": [],
   "source": [
    "##trabalhar com spark para fazer os pre processamentos\n",
    "enem.createOrReplaceTempView(\"enem\")"
   ]
  },
  {
   "cell_type": "code",
   "execution_count": 8,
   "id": "cbd03113-279d-4504-8404-ea9f1494e4d9",
   "metadata": {},
   "outputs": [
    {
     "name": "stdout",
     "output_type": "stream",
     "text": [
      "+-------+----------------+------------------+------------------+\n",
      "|tp_sexo|sg_uf_residencia|         med_idade|       med_nota_mt|\n",
      "+-------+----------------+------------------+------------------+\n",
      "|      F|              DF| 23.08285149937152| 517.9624757342744|\n",
      "|      F|              PB|22.583268720189846|491.15081486656857|\n",
      "|      F|              ES|22.412574909777174| 523.7890381945264|\n",
      "|      F|              PI|22.086648062532106|483.89192631785204|\n",
      "|      M|              MS|22.712471968259443| 536.4454554406697|\n",
      "|      F|              SE| 22.37932546818122|490.77354970390377|\n",
      "|      M|              AM|23.486011658632027|498.55375681970463|\n",
      "|      M|              RR| 22.34894026974952| 520.2750000000001|\n",
      "|      M|              SP|20.975866306954437| 578.2618169116553|\n",
      "|      F|              CE| 21.11123120643171| 501.9193588902578|\n",
      "|      M|              PE|22.165988572246118| 541.9512436978805|\n",
      "|      F|              TO|21.222175468125396| 481.6204369992716|\n",
      "|      M|              MA|22.031996727607403|503.74552093996874|\n",
      "|      F|              MG|21.872027894891655| 529.5273594421636|\n",
      "|      F|              MA|22.065852435856538| 470.4185900804398|\n",
      "|      F|              PR| 20.86052019075831| 524.1114158930476|\n",
      "|      M|              RO|23.608279700817533| 516.1848362720402|\n",
      "|      F|              AP|24.431321792590197|461.07923313417257|\n",
      "|      F|              BA| 22.65389482592745|484.98811374324475|\n",
      "|      F|              SP| 20.85638000983014| 532.5990530953453|\n",
      "+-------+----------------+------------------+------------------+\n",
      "only showing top 20 rows\n",
      "\n"
     ]
    }
   ],
   "source": [
    "spark.sql(\"\"\"\n",
    "    select tp_sexo, sg_uf_residencia, avg(nu_idade) as med_idade, avg(nu_nota_mt) as med_nota_mt\n",
    "    from enem\n",
    "    group by tp_sexo, sg_uf_residencia\n",
    "\"\"\").show()"
   ]
  },
  {
   "cell_type": "code",
   "execution_count": 10,
   "id": "71eb0050-2cde-471e-959c-7507dcd5fc07",
   "metadata": {},
   "outputs": [],
   "source": [
    "# consulta mais pesada ainda\n",
    "\n",
    "#encapsulando\n",
    "def consulta(query: str):\n",
    "    return spark.sql(query).show()\n"
   ]
  },
  {
   "cell_type": "code",
   "execution_count": 12,
   "id": "7d03d859-b5bb-4836-91cd-46455cdab00c",
   "metadata": {},
   "outputs": [
    {
     "name": "stdout",
     "output_type": "stream",
     "text": [
      "root\n",
      " |-- NU_INSCRICAO: long (nullable = true)\n",
      " |-- NU_ANO: integer (nullable = true)\n",
      " |-- CO_MUNICIPIO_RESIDENCIA: integer (nullable = true)\n",
      " |-- NO_MUNICIPIO_RESIDENCIA: string (nullable = true)\n",
      " |-- CO_UF_RESIDENCIA: integer (nullable = true)\n",
      " |-- SG_UF_RESIDENCIA: string (nullable = true)\n",
      " |-- NU_IDADE: integer (nullable = true)\n",
      " |-- TP_SEXO: string (nullable = true)\n",
      " |-- TP_ESTADO_CIVIL: integer (nullable = true)\n",
      " |-- TP_COR_RACA: integer (nullable = true)\n",
      " |-- TP_NACIONALIDADE: integer (nullable = true)\n",
      " |-- CO_MUNICIPIO_NASCIMENTO: integer (nullable = true)\n",
      " |-- NO_MUNICIPIO_NASCIMENTO: string (nullable = true)\n",
      " |-- CO_UF_NASCIMENTO: integer (nullable = true)\n",
      " |-- SG_UF_NASCIMENTO: string (nullable = true)\n",
      " |-- TP_ST_CONCLUSAO: integer (nullable = true)\n",
      " |-- TP_ANO_CONCLUIU: integer (nullable = true)\n",
      " |-- TP_ESCOLA: integer (nullable = true)\n",
      " |-- TP_ENSINO: integer (nullable = true)\n",
      " |-- IN_TREINEIRO: integer (nullable = true)\n",
      " |-- CO_ESCOLA: integer (nullable = true)\n",
      " |-- CO_MUNICIPIO_ESC: integer (nullable = true)\n",
      " |-- NO_MUNICIPIO_ESC: string (nullable = true)\n",
      " |-- CO_UF_ESC: integer (nullable = true)\n",
      " |-- SG_UF_ESC: string (nullable = true)\n",
      " |-- TP_DEPENDENCIA_ADM_ESC: integer (nullable = true)\n",
      " |-- TP_LOCALIZACAO_ESC: integer (nullable = true)\n",
      " |-- TP_SIT_FUNC_ESC: integer (nullable = true)\n",
      " |-- IN_BAIXA_VISAO: integer (nullable = true)\n",
      " |-- IN_CEGUEIRA: integer (nullable = true)\n",
      " |-- IN_SURDEZ: integer (nullable = true)\n",
      " |-- IN_DEFICIENCIA_AUDITIVA: integer (nullable = true)\n",
      " |-- IN_SURDO_CEGUEIRA: integer (nullable = true)\n",
      " |-- IN_DEFICIENCIA_FISICA: integer (nullable = true)\n",
      " |-- IN_DEFICIENCIA_MENTAL: integer (nullable = true)\n",
      " |-- IN_DEFICIT_ATENCAO: integer (nullable = true)\n",
      " |-- IN_DISLEXIA: integer (nullable = true)\n",
      " |-- IN_DISCALCULIA: integer (nullable = true)\n",
      " |-- IN_AUTISMO: integer (nullable = true)\n",
      " |-- IN_VISAO_MONOCULAR: integer (nullable = true)\n",
      " |-- IN_OUTRA_DEF: integer (nullable = true)\n",
      " |-- IN_GESTANTE: integer (nullable = true)\n",
      " |-- IN_LACTANTE: integer (nullable = true)\n",
      " |-- IN_IDOSO: integer (nullable = true)\n",
      " |-- IN_ESTUDA_CLASSE_HOSPITALAR: integer (nullable = true)\n",
      " |-- IN_SEM_RECURSO: integer (nullable = true)\n",
      " |-- IN_BRAILLE: integer (nullable = true)\n",
      " |-- IN_AMPLIADA_24: integer (nullable = true)\n",
      " |-- IN_AMPLIADA_18: integer (nullable = true)\n",
      " |-- IN_LEDOR: integer (nullable = true)\n",
      " |-- IN_ACESSO: integer (nullable = true)\n",
      " |-- IN_TRANSCRICAO: integer (nullable = true)\n",
      " |-- IN_LIBRAS: integer (nullable = true)\n",
      " |-- IN_TEMPO_ADICIONAL: integer (nullable = true)\n",
      " |-- IN_LEITURA_LABIAL: integer (nullable = true)\n",
      " |-- IN_MESA_CADEIRA_RODAS: integer (nullable = true)\n",
      " |-- IN_MESA_CADEIRA_SEPARADA: integer (nullable = true)\n",
      " |-- IN_APOIO_PERNA: integer (nullable = true)\n",
      " |-- IN_GUIA_INTERPRETE: integer (nullable = true)\n",
      " |-- IN_COMPUTADOR: integer (nullable = true)\n",
      " |-- IN_CADEIRA_ESPECIAL: integer (nullable = true)\n",
      " |-- IN_CADEIRA_CANHOTO: integer (nullable = true)\n",
      " |-- IN_CADEIRA_ACOLCHOADA: integer (nullable = true)\n",
      " |-- IN_PROVA_DEITADO: integer (nullable = true)\n",
      " |-- IN_MOBILIARIO_OBESO: integer (nullable = true)\n",
      " |-- IN_LAMINA_OVERLAY: integer (nullable = true)\n",
      " |-- IN_PROTETOR_AURICULAR: integer (nullable = true)\n",
      " |-- IN_MEDIDOR_GLICOSE: integer (nullable = true)\n",
      " |-- IN_MAQUINA_BRAILE: integer (nullable = true)\n",
      " |-- IN_SOROBAN: integer (nullable = true)\n",
      " |-- IN_MARCA_PASSO: integer (nullable = true)\n",
      " |-- IN_SONDA: integer (nullable = true)\n",
      " |-- IN_MEDICAMENTOS: integer (nullable = true)\n",
      " |-- IN_SALA_INDIVIDUAL: integer (nullable = true)\n",
      " |-- IN_SALA_ESPECIAL: integer (nullable = true)\n",
      " |-- IN_SALA_ACOMPANHANTE: integer (nullable = true)\n",
      " |-- IN_MOBILIARIO_ESPECIFICO: integer (nullable = true)\n",
      " |-- IN_MATERIAL_ESPECIFICO: integer (nullable = true)\n",
      " |-- IN_NOME_SOCIAL: integer (nullable = true)\n",
      " |-- CO_MUNICIPIO_PROVA: integer (nullable = true)\n",
      " |-- NO_MUNICIPIO_PROVA: string (nullable = true)\n",
      " |-- CO_UF_PROVA: integer (nullable = true)\n",
      " |-- SG_UF_PROVA: string (nullable = true)\n",
      " |-- TP_PRESENCA_CN: integer (nullable = true)\n",
      " |-- TP_PRESENCA_CH: integer (nullable = true)\n",
      " |-- TP_PRESENCA_LC: integer (nullable = true)\n",
      " |-- TP_PRESENCA_MT: integer (nullable = true)\n",
      " |-- CO_PROVA_CN: integer (nullable = true)\n",
      " |-- CO_PROVA_CH: integer (nullable = true)\n",
      " |-- CO_PROVA_LC: integer (nullable = true)\n",
      " |-- CO_PROVA_MT: integer (nullable = true)\n",
      " |-- NU_NOTA_CN: double (nullable = true)\n",
      " |-- NU_NOTA_CH: double (nullable = true)\n",
      " |-- NU_NOTA_LC: double (nullable = true)\n",
      " |-- NU_NOTA_MT: double (nullable = true)\n",
      " |-- TX_RESPOSTAS_CN: string (nullable = true)\n",
      " |-- TX_RESPOSTAS_CH: string (nullable = true)\n",
      " |-- TX_RESPOSTAS_LC: string (nullable = true)\n",
      " |-- TX_RESPOSTAS_MT: string (nullable = true)\n",
      " |-- TP_LINGUA: integer (nullable = true)\n",
      " |-- TX_GABARITO_CN: string (nullable = true)\n",
      " |-- TX_GABARITO_CH: string (nullable = true)\n",
      " |-- TX_GABARITO_LC: string (nullable = true)\n",
      " |-- TX_GABARITO_MT: string (nullable = true)\n",
      " |-- TP_STATUS_REDACAO: integer (nullable = true)\n",
      " |-- NU_NOTA_COMP1: integer (nullable = true)\n",
      " |-- NU_NOTA_COMP2: integer (nullable = true)\n",
      " |-- NU_NOTA_COMP3: integer (nullable = true)\n",
      " |-- NU_NOTA_COMP4: integer (nullable = true)\n",
      " |-- NU_NOTA_COMP5: integer (nullable = true)\n",
      " |-- NU_NOTA_REDACAO: integer (nullable = true)\n",
      " |-- Q001: string (nullable = true)\n",
      " |-- Q002: string (nullable = true)\n",
      " |-- Q003: string (nullable = true)\n",
      " |-- Q004: string (nullable = true)\n",
      " |-- Q005: integer (nullable = true)\n",
      " |-- Q006: string (nullable = true)\n",
      " |-- Q007: string (nullable = true)\n",
      " |-- Q008: string (nullable = true)\n",
      " |-- Q009: string (nullable = true)\n",
      " |-- Q010: string (nullable = true)\n",
      " |-- Q011: string (nullable = true)\n",
      " |-- Q012: string (nullable = true)\n",
      " |-- Q013: string (nullable = true)\n",
      " |-- Q014: string (nullable = true)\n",
      " |-- Q015: string (nullable = true)\n",
      " |-- Q016: string (nullable = true)\n",
      " |-- Q017: string (nullable = true)\n",
      " |-- Q018: string (nullable = true)\n",
      " |-- Q019: string (nullable = true)\n",
      " |-- Q020: string (nullable = true)\n",
      " |-- Q021: string (nullable = true)\n",
      " |-- Q022: string (nullable = true)\n",
      " |-- Q023: string (nullable = true)\n",
      " |-- Q024: string (nullable = true)\n",
      " |-- Q025: string (nullable = true)\n",
      "\n"
     ]
    }
   ],
   "source": [
    "enem.printSchema()"
   ]
  },
  {
   "cell_type": "code",
   "execution_count": 14,
   "id": "c2dd4767-dad2-4fcb-90ff-4549a3ff287d",
   "metadata": {},
   "outputs": [
    {
     "name": "stdout",
     "output_type": "stream",
     "text": [
      "+-------+----------------+-----------------------+------------------+-----------------+\n",
      "|tp_sexo|sg_uf_residencia|no_municipio_residencia|         med_idade|      med_nota_mt|\n",
      "+-------+----------------+-----------------------+------------------+-----------------+\n",
      "|      M|              SP|                Trabiju|              18.8|711.8333333333334|\n",
      "|      M|              SP|               Balbinos|              19.0|647.8166666666666|\n",
      "|      M|              SP|     São Caetano do Sul| 20.02294197031039|635.8275300171525|\n",
      "|      M|              SP|                 Arapeí|19.571428571428573|635.0833333333334|\n",
      "|      M|              MG|            Silveirânia|19.321428571428573|634.7130434782608|\n",
      "|      M|              SP|                 Ocauçu|             18.55|634.6909090909089|\n",
      "|      M|              MG|     Itamarati de Minas|19.941176470588236|           629.45|\n",
      "|      M|              MG|      Conceição do Pará|19.952380952380953|629.0833333333335|\n",
      "|      M|              MG|              Belo Vale|  21.7027027027027|628.9653846153847|\n",
      "|      M|              SP|               Pacaembu|18.568181818181817|628.7874999999999|\n",
      "|      M|              MG|                 Itaúna|21.229787234042554|627.1927509293679|\n",
      "|      M|              SP|    São José dos Campos| 21.22434809442987|626.1979362484674|\n",
      "|      M|              SP|                 Queluz|19.214285714285715|625.8944444444445|\n",
      "|      M|              SP|               Valinhos| 19.54434250764526|625.3549744897958|\n",
      "|      M|              SP|                 Bofete|19.696969696969695|623.8000000000001|\n",
      "|      M|              SP|                Dracena|18.597014925373134|620.2911627906977|\n",
      "|      M|              MG|                Formiga| 20.15917602996255|619.7337696335078|\n",
      "|      M|              SP|   Santa Rita do Pas...|              20.1|619.0661870503596|\n",
      "|      M|              SP|                Dourado|19.020833333333332|618.9114285714284|\n",
      "|      M|              SP|               Botucatu|20.151658767772513|618.8358816276202|\n",
      "+-------+----------------+-----------------------+------------------+-----------------+\n",
      "only showing top 20 rows\n",
      "\n"
     ]
    }
   ],
   "source": [
    "consulta(\"\"\"\n",
    "    select tp_sexo, sg_uf_residencia, no_municipio_residencia, avg(nu_idade) as med_idade, avg(nu_nota_mt) as med_nota_mt\n",
    "    from enem\n",
    "    where sg_uf_residencia in ('MG','SP')\n",
    "    group by tp_sexo, sg_uf_residencia, no_municipio_residencia\n",
    "    order by med_nota_mt desc\n",
    "\"\"\")"
   ]
  },
  {
   "cell_type": "code",
   "execution_count": 28,
   "id": "c6c354f4-b75a-491c-ab3b-7635976efbcc",
   "metadata": {},
   "outputs": [
    {
     "name": "stdout",
     "output_type": "stream",
     "text": [
      "+-------+----------------+-----------------------+------------------+-----------------+\n",
      "|TP_SEXO|SG_UF_RESIDENCIA|NO_MUNICIPIO_RESIDENCIA|         med_idade|      med_nota_mt|\n",
      "+-------+----------------+-----------------------+------------------+-----------------+\n",
      "|      M|              SP|                Trabiju|              18.8|711.8333333333334|\n",
      "|      M|              SP|               Balbinos|              19.0|647.8166666666666|\n",
      "|      M|              SP|     São Caetano do Sul| 20.02294197031039|635.8275300171525|\n",
      "|      M|              SP|                 Arapeí|19.571428571428573|635.0833333333334|\n",
      "|      M|              MG|            Silveirânia|19.321428571428573|634.7130434782608|\n",
      "|      M|              SP|                 Ocauçu|             18.55|634.6909090909089|\n",
      "|      M|              MG|     Itamarati de Minas|19.941176470588236|           629.45|\n",
      "|      M|              MG|      Conceição do Pará|19.952380952380953|629.0833333333335|\n",
      "|      M|              MG|              Belo Vale|  21.7027027027027|628.9653846153847|\n",
      "|      M|              SP|               Pacaembu|18.568181818181817|628.7874999999999|\n",
      "|      M|              MG|                 Itaúna|21.229787234042554|627.1927509293679|\n",
      "|      M|              SP|    São José dos Campos| 21.22434809442987|626.1979362484674|\n",
      "|      M|              SP|                 Queluz|19.214285714285715|625.8944444444445|\n",
      "|      M|              SP|               Valinhos| 19.54434250764526|625.3549744897958|\n",
      "|      M|              SP|                 Bofete|19.696969696969695|623.8000000000001|\n",
      "|      M|              SP|                Dracena|18.597014925373134|620.2911627906977|\n",
      "|      M|              MG|                Formiga| 20.15917602996255|619.7337696335078|\n",
      "|      M|              SP|   Santa Rita do Pas...|              20.1|619.0661870503596|\n",
      "|      M|              SP|                Dourado|19.020833333333332|618.9114285714284|\n",
      "|      M|              SP|               Botucatu|20.151658767772513|618.8358816276202|\n",
      "+-------+----------------+-----------------------+------------------+-----------------+\n",
      "only showing top 20 rows\n",
      "\n"
     ]
    }
   ],
   "source": [
    "(\n",
    "    enem\n",
    "    .where(col(\"SG_UF_RESIDENCIA\").isin([\"MG\",\"SP\"]))\n",
    "    .groupBy([\"TP_SEXO\",\"SG_UF_RESIDENCIA\",\"NO_MUNICIPIO_RESIDENCIA\"])\n",
    "    .agg(\n",
    "        mean(col(\"NU_IDADE\")).alias(\"med_idade\"),\n",
    "        mean(col(\"NU_NOTA_MT\")).alias(\"med_nota_mt\")\n",
    "  \n",
    "    )\n",
    "    .orderBy(col(\"med_nota_mt\").desc())\n",
    "    .show()\n",
    ")"
   ]
  },
  {
   "cell_type": "code",
   "execution_count": null,
   "id": "d1a80a67-f813-433d-8aff-1facfc6bd34f",
   "metadata": {},
   "outputs": [],
   "source": []
  }
 ],
 "metadata": {
  "kernelspec": {
   "display_name": "Python 3",
   "language": "python",
   "name": "python3"
  },
  "language_info": {
   "codemirror_mode": {
    "name": "ipython",
    "version": 3
   },
   "file_extension": ".py",
   "mimetype": "text/x-python",
   "name": "python",
   "nbconvert_exporter": "python",
   "pygments_lexer": "ipython3",
   "version": "3.8.8"
  }
 },
 "nbformat": 4,
 "nbformat_minor": 5
}
